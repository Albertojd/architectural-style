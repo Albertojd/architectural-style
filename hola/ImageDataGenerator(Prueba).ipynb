{
 "cells": [
  {
   "cell_type": "code",
   "execution_count": 22,
   "metadata": {},
   "outputs": [],
   "source": [
    "# Importing all necessary libraries \n",
    "from keras.preprocessing.image import ImageDataGenerator \n",
    "from keras.models import Sequential \n",
    "from keras.layers import Conv2D, MaxPooling2D \n",
    "from keras.layers import Activation, Dropout, Flatten, Dense \n",
    "from keras import backend as K \n",
    "  \n",
    "img_width, img_height = 128, 128"
   ]
  },
  {
   "cell_type": "code",
   "execution_count": 50,
   "metadata": {},
   "outputs": [],
   "source": [
    "train_data_dir = 'data/train'\n",
    "validation_data_dir = 'data/test'\n",
    "nb_train_samples =400 \n",
    "nb_validation_samples = 400\n",
    "epochs = 15\n",
    "batch_size = 1"
   ]
  },
  {
   "cell_type": "code",
   "execution_count": 43,
   "metadata": {},
   "outputs": [
    {
     "name": "stdout",
     "output_type": "stream",
     "text": [
      "data/train\n"
     ]
    }
   ],
   "source": [
    "print(train_data_dir)"
   ]
  },
  {
   "cell_type": "code",
   "execution_count": 32,
   "metadata": {},
   "outputs": [],
   "source": [
    "if K.image_data_format() == 'channels_first': \n",
    "    input_shape = (3, img_width, img_height) \n",
    "else: \n",
    "    input_shape = (img_width, img_height, 3) "
   ]
  },
  {
   "cell_type": "code",
   "execution_count": 39,
   "metadata": {},
   "outputs": [],
   "source": [
    "model = Sequential() \n",
    "model.add(Conv2D(32, (2, 2), input_shape=input_shape)) \n",
    "model.add(Activation('relu')) \n",
    "model.add(MaxPooling2D(pool_size=(2, 2))) \n",
    "  \n",
    "model.add(Conv2D(32, (2, 2))) \n",
    "model.add(Activation('relu')) \n",
    "model.add(MaxPooling2D(pool_size=(2, 2))) \n",
    "  \n",
    "model.add(Conv2D(64, (2, 2))) \n",
    "model.add(Activation('relu')) \n",
    "model.add(MaxPooling2D(pool_size=(2, 2))) \n",
    "  \n",
    "model.add(Flatten()) \n",
    "model.add(Dense(64)) \n",
    "model.add(Activation('relu')) \n",
    "model.add(Dropout(0.5)) \n",
    "model.add(Dense(1)) \n",
    "model.add(Activation('sigmoid')) "
   ]
  },
  {
   "cell_type": "code",
   "execution_count": 40,
   "metadata": {},
   "outputs": [],
   "source": [
    "model.compile(loss=tensorflow.keras.losses.categorical_crossentropy,\n",
    "              optimizer=tensorflow.keras.optimizers.Adam(),\n",
    "              metrics=['accuracy'])"
   ]
  },
  {
   "cell_type": "code",
   "execution_count": 51,
   "metadata": {},
   "outputs": [
    {
     "name": "stdout",
     "output_type": "stream",
     "text": [
      "Found 862 images belonging to 2 classes.\n",
      "Found 862 images belonging to 2 classes.\n",
      "Epoch 1/15\n",
      "400/400 [==============================] - 13s 34ms/step - loss: 5.2750e-08 - accuracy: 0.5475 - val_loss: 5.3396e-08 - val_accuracy: 0.5521\n",
      "Epoch 2/15\n",
      "400/400 [==============================] - 13s 32ms/step - loss: 5.5730e-08 - accuracy: 0.5375 - val_loss: 4.3462e-08 - val_accuracy: 0.6354\n",
      "Epoch 3/15\n",
      "400/400 [==============================] - 13s 32ms/step - loss: 5.9009e-08 - accuracy: 0.5175 - val_loss: 6.4572e-08 - val_accuracy: 0.4583\n",
      "Epoch 4/15\n",
      "400/400 [==============================] - 13s 33ms/step - loss: 5.5134e-08 - accuracy: 0.5250 - val_loss: 6.3330e-08 - val_accuracy: 0.4688\n",
      "Epoch 5/15\n",
      "400/400 [==============================] - 13s 32ms/step - loss: 5.5730e-08 - accuracy: 0.5350 - val_loss: 7.0781e-08 - val_accuracy: 0.4062\n",
      "Epoch 6/15\n",
      "400/400 [==============================] - 13s 33ms/step - loss: 5.7220e-08 - accuracy: 0.5500 - val_loss: 5.9605e-08 - val_accuracy: 0.5000\n",
      "Epoch 7/15\n",
      "400/400 [==============================] - 13s 32ms/step - loss: 5.3048e-08 - accuracy: 0.5375 - val_loss: 5.9605e-08 - val_accuracy: 0.5000\n",
      "Epoch 8/15\n",
      "400/400 [==============================] - 13s 32ms/step - loss: 5.5432e-08 - accuracy: 0.5300 - val_loss: 4.8429e-08 - val_accuracy: 0.5938\n",
      "Epoch 9/15\n",
      "400/400 [==============================] - 13s 32ms/step - loss: 5.3048e-08 - accuracy: 0.5275 - val_loss: 5.3396e-08 - val_accuracy: 0.5521\n",
      "Epoch 10/15\n",
      "400/400 [==============================] - 13s 32ms/step - loss: 5.9605e-08 - accuracy: 0.4825 - val_loss: 4.9671e-08 - val_accuracy: 0.5833\n",
      "Epoch 11/15\n",
      "400/400 [==============================] - 13s 33ms/step - loss: 5.8115e-08 - accuracy: 0.5225 - val_loss: 5.0912e-08 - val_accuracy: 0.5729\n",
      "Epoch 12/15\n",
      "400/400 [==============================] - 13s 33ms/step - loss: 5.2750e-08 - accuracy: 0.5300 - val_loss: 5.5879e-08 - val_accuracy: 0.5312\n",
      "Epoch 13/15\n",
      "400/400 [==============================] - 13s 32ms/step - loss: 5.6028e-08 - accuracy: 0.5025 - val_loss: 5.4638e-08 - val_accuracy: 0.5417\n",
      "Epoch 14/15\n",
      "400/400 [==============================] - 13s 33ms/step - loss: 5.5134e-08 - accuracy: 0.5200 - val_loss: 5.3396e-08 - val_accuracy: 0.5521\n",
      "Epoch 15/15\n",
      "400/400 [==============================] - 13s 32ms/step - loss: 5.7817e-08 - accuracy: 0.5100 - val_loss: 5.5879e-08 - val_accuracy: 0.5312\n"
     ]
    },
    {
     "data": {
      "text/plain": [
       "<tensorflow.python.keras.callbacks.History at 0x2c813e358e0>"
      ]
     },
     "execution_count": 51,
     "metadata": {},
     "output_type": "execute_result"
    }
   ],
   "source": [
    "train_datagen = ImageDataGenerator( \n",
    "    rescale=1. / 255, \n",
    "    shear_range=0.2, \n",
    "    zoom_range=0.2, \n",
    "    horizontal_flip=True) \n",
    "  \n",
    "test_datagen = ImageDataGenerator(rescale=1. / 255) \n",
    "  \n",
    "train_generator = train_datagen.flow_from_directory( \n",
    "    train_data_dir, \n",
    "    target_size=(img_width, img_height), \n",
    "    batch_size=batch_size, \n",
    "    class_mode='binary') \n",
    "  \n",
    "validation_generator = test_datagen.flow_from_directory( \n",
    "    validation_data_dir, \n",
    "    target_size=(img_width, img_height), \n",
    "    batch_size=batch_size, \n",
    "    class_mode='binary') \n",
    "  \n",
    "model.fit_generator( \n",
    "    train_generator, \n",
    "    steps_per_epoch=nb_train_samples // batch_size, \n",
    "    epochs=epochs, \n",
    "    validation_data=validation_generator, \n",
    "    validation_steps=nb_validation_samples // batch_size) "
   ]
  },
  {
   "cell_type": "code",
   "execution_count": null,
   "metadata": {},
   "outputs": [],
   "source": []
  },
  {
   "cell_type": "code",
   "execution_count": null,
   "metadata": {},
   "outputs": [],
   "source": []
  }
 ],
 "metadata": {
  "kernelspec": {
   "display_name": "Python 3",
   "language": "python",
   "name": "python3"
  },
  "language_info": {
   "codemirror_mode": {
    "name": "ipython",
    "version": 3
   },
   "file_extension": ".py",
   "mimetype": "text/x-python",
   "name": "python",
   "nbconvert_exporter": "python",
   "pygments_lexer": "ipython3",
   "version": "3.8.3"
  }
 },
 "nbformat": 4,
 "nbformat_minor": 4
}
